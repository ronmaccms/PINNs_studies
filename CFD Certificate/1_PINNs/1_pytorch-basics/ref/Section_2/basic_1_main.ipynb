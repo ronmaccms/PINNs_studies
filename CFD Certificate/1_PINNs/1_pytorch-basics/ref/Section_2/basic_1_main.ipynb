{
 "cells": [
  {
   "cell_type": "code",
   "execution_count": 1,
   "id": "567b1079",
   "metadata": {},
   "outputs": [],
   "source": [
    "import torch"
   ]
  },
  {
   "cell_type": "code",
   "execution_count": 2,
   "id": "e6329e42",
   "metadata": {},
   "outputs": [
    {
     "name": "stdout",
     "output_type": "stream",
     "text": [
      "tensor([0.])\n"
     ]
    }
   ],
   "source": [
    "x = torch.empty(1)\n",
    "print(x)"
   ]
  },
  {
   "cell_type": "code",
   "execution_count": 3,
   "id": "4c5ea121",
   "metadata": {},
   "outputs": [
    {
     "name": "stdout",
     "output_type": "stream",
     "text": [
      "tensor([0., 0., 0.])\n"
     ]
    }
   ],
   "source": [
    "x = torch.empty(3)\n",
    "print(x)"
   ]
  },
  {
   "cell_type": "code",
   "execution_count": 4,
   "id": "f4bb6c83",
   "metadata": {},
   "outputs": [
    {
     "name": "stdout",
     "output_type": "stream",
     "text": [
      "tensor([[1.0286e-38, 1.0653e-38, 1.0194e-38],\n",
      "        [8.4490e-39, 1.0469e-38, 9.3674e-39],\n",
      "        [9.9184e-39, 8.7245e-39, 9.2755e-39]])\n"
     ]
    }
   ],
   "source": [
    "x = torch.empty(3,3)\n",
    "print(x)"
   ]
  },
  {
   "cell_type": "code",
   "execution_count": 7,
   "id": "fbb5759e",
   "metadata": {},
   "outputs": [
    {
     "name": "stdout",
     "output_type": "stream",
     "text": [
      "tensor([[[1.0286e-38, 1.0653e-38],\n",
      "         [1.0194e-38, 8.4490e-39],\n",
      "         [1.0469e-38, 9.3674e-39]],\n",
      "\n",
      "        [[9.9184e-39, 8.7245e-39],\n",
      "         [9.2755e-39, 8.9082e-39],\n",
      "         [9.9184e-39, 8.4490e-39]]])\n"
     ]
    }
   ],
   "source": [
    "x = torch.empty(2,3,2)\n",
    "print(x)"
   ]
  },
  {
   "cell_type": "code",
   "execution_count": 8,
   "id": "d9796ee0",
   "metadata": {},
   "outputs": [
    {
     "name": "stdout",
     "output_type": "stream",
     "text": [
      "tensor([[0.3448, 0.9188, 0.6927],\n",
      "        [0.9514, 0.6132, 0.7493],\n",
      "        [0.3870, 0.8318, 0.4698]])\n"
     ]
    }
   ],
   "source": [
    "x = torch.rand(3,3)\n",
    "print(x)"
   ]
  },
  {
   "cell_type": "code",
   "execution_count": 9,
   "id": "764bf5ea",
   "metadata": {},
   "outputs": [
    {
     "name": "stdout",
     "output_type": "stream",
     "text": [
      "tensor([[0., 0., 0.],\n",
      "        [0., 0., 0.],\n",
      "        [0., 0., 0.]])\n"
     ]
    }
   ],
   "source": [
    "x = torch.zeros(3,3)\n",
    "print(x)"
   ]
  },
  {
   "cell_type": "code",
   "execution_count": 10,
   "id": "b2c517e7",
   "metadata": {},
   "outputs": [
    {
     "name": "stdout",
     "output_type": "stream",
     "text": [
      "tensor([[1., 1., 1.],\n",
      "        [1., 1., 1.],\n",
      "        [1., 1., 1.]])\n"
     ]
    }
   ],
   "source": [
    "x = torch.ones(3,3)\n",
    "print(x)"
   ]
  },
  {
   "cell_type": "code",
   "execution_count": 13,
   "id": "6ac7154c",
   "metadata": {},
   "outputs": [
    {
     "name": "stdout",
     "output_type": "stream",
     "text": [
      "tensor([[1, 1, 1],\n",
      "        [1, 1, 1],\n",
      "        [1, 1, 1]], dtype=torch.int32)\n"
     ]
    }
   ],
   "source": [
    "x = torch.ones(3,3, dtype= torch.int32)\n",
    "print(x)"
   ]
  },
  {
   "cell_type": "code",
   "execution_count": 15,
   "id": "f2e40c49",
   "metadata": {},
   "outputs": [
    {
     "name": "stdout",
     "output_type": "stream",
     "text": [
      "tensor([2.5000, 0.1000])\n"
     ]
    }
   ],
   "source": [
    "A = [2.5, 0.1]\n",
    "x = torch.tensor(A)\n",
    "print(x)"
   ]
  },
  {
   "cell_type": "code",
   "execution_count": 20,
   "id": "ec368cf4",
   "metadata": {},
   "outputs": [
    {
     "name": "stdout",
     "output_type": "stream",
     "text": [
      "tensor([[0.0279, 0.0161],\n",
      "        [0.0694, 0.5798]])\n",
      "tensor([[0.2814, 0.9270],\n",
      "        [0.6475, 0.2050]])\n",
      "tensor([[-0.2535, -0.9109],\n",
      "        [-0.5781,  0.3747]])\n",
      "tensor([[-0.2535, -0.9109],\n",
      "        [-0.5781,  0.3747]])\n"
     ]
    }
   ],
   "source": [
    "x = torch.rand(2,2)\n",
    "y = torch.rand(2,2)\n",
    "print(x)\n",
    "print(y)\n",
    "z = x*y\n",
    "z = x+y\n",
    "z = x-y\n",
    "print(z)\n",
    "z= torch.mul(x,y)\n",
    "z= torch.add(x,y)\n",
    "z= torch.sub(x,y)\n",
    "print(z)"
   ]
  },
  {
   "cell_type": "code",
   "execution_count": 22,
   "id": "0ef3f889",
   "metadata": {},
   "outputs": [
    {
     "name": "stdout",
     "output_type": "stream",
     "text": [
      "tensor([[0.8283, 0.2883, 0.1176],\n",
      "        [0.1128, 0.0145, 0.2286],\n",
      "        [0.8356, 0.3982, 0.2577],\n",
      "        [0.3336, 0.2425, 0.4647],\n",
      "        [0.7438, 0.0065, 0.7989]])\n"
     ]
    }
   ],
   "source": [
    "x = torch.rand(5,3)\n",
    "print(x)"
   ]
  },
  {
   "cell_type": "code",
   "execution_count": 23,
   "id": "c57ec304",
   "metadata": {},
   "outputs": [
    {
     "name": "stdout",
     "output_type": "stream",
     "text": [
      "tensor([0.8283, 0.1128, 0.8356, 0.3336, 0.7438])\n"
     ]
    }
   ],
   "source": [
    "print(x[:,0])"
   ]
  },
  {
   "cell_type": "code",
   "execution_count": 26,
   "id": "499bf2a0",
   "metadata": {},
   "outputs": [
    {
     "name": "stdout",
     "output_type": "stream",
     "text": [
      "tensor([[0.8283, 0.2883, 0.1176],\n",
      "        [0.1128, 0.0145, 0.2286]])\n"
     ]
    }
   ],
   "source": [
    "print(x[0:2,:])"
   ]
  },
  {
   "cell_type": "code",
   "execution_count": 29,
   "id": "0f1edc72",
   "metadata": {},
   "outputs": [
    {
     "name": "stdout",
     "output_type": "stream",
     "text": [
      "tensor(0.8283)\n",
      "0.8282577395439148\n"
     ]
    }
   ],
   "source": [
    "print(x[0,0])\n",
    "print(x[0,0].item())"
   ]
  },
  {
   "cell_type": "code",
   "execution_count": 30,
   "id": "18fc3257",
   "metadata": {},
   "outputs": [
    {
     "name": "stdout",
     "output_type": "stream",
     "text": [
      "tensor([[0.1726, 0.8456, 0.2947, 0.6546],\n",
      "        [0.7188, 0.6638, 0.5594, 0.5543],\n",
      "        [0.3453, 0.7042, 0.1191, 0.6527],\n",
      "        [0.9670, 0.5552, 0.6529, 0.0657]])\n"
     ]
    }
   ],
   "source": [
    "x = torch.rand(4,4)\n",
    "print(x)"
   ]
  },
  {
   "cell_type": "code",
   "execution_count": 31,
   "id": "f75971dc",
   "metadata": {},
   "outputs": [
    {
     "name": "stdout",
     "output_type": "stream",
     "text": [
      "tensor([0.1726, 0.8456, 0.2947, 0.6546, 0.7188, 0.6638, 0.5594, 0.5543, 0.3453,\n",
      "        0.7042, 0.1191, 0.6527, 0.9670, 0.5552, 0.6529, 0.0657])\n"
     ]
    }
   ],
   "source": [
    "y = x.view(16)\n",
    "print(y)"
   ]
  },
  {
   "cell_type": "code",
   "execution_count": 32,
   "id": "1d79c932",
   "metadata": {},
   "outputs": [
    {
     "name": "stdout",
     "output_type": "stream",
     "text": [
      "tensor([[0.1726, 0.8456, 0.2947, 0.6546, 0.7188, 0.6638, 0.5594, 0.5543],\n",
      "        [0.3453, 0.7042, 0.1191, 0.6527, 0.9670, 0.5552, 0.6529, 0.0657]])\n"
     ]
    }
   ],
   "source": [
    "y = x.view(2,8)\n",
    "print(y)"
   ]
  },
  {
   "cell_type": "code",
   "execution_count": 33,
   "id": "9210d5d2",
   "metadata": {},
   "outputs": [
    {
     "name": "stdout",
     "output_type": "stream",
     "text": [
      "tensor([[0.1726, 0.8456, 0.2947, 0.6546, 0.7188, 0.6638, 0.5594, 0.5543],\n",
      "        [0.3453, 0.7042, 0.1191, 0.6527, 0.9670, 0.5552, 0.6529, 0.0657]])\n"
     ]
    }
   ],
   "source": [
    "y = x.view(-1,8)\n",
    "print(y)"
   ]
  },
  {
   "cell_type": "code",
   "execution_count": null,
   "id": "6c6baf21",
   "metadata": {},
   "outputs": [],
   "source": []
  }
 ],
 "metadata": {
  "kernelspec": {
   "display_name": "Python 3 (ipykernel)",
   "language": "python",
   "name": "python3"
  },
  "language_info": {
   "codemirror_mode": {
    "name": "ipython",
    "version": 3
   },
   "file_extension": ".py",
   "mimetype": "text/x-python",
   "name": "python",
   "nbconvert_exporter": "python",
   "pygments_lexer": "ipython3",
   "version": "3.11.3"
  }
 },
 "nbformat": 4,
 "nbformat_minor": 5
}
